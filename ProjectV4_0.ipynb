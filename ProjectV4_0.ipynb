{
  "nbformat": 4,
  "nbformat_minor": 0,
  "metadata": {
    "colab": {
      "provenance": [],
      "include_colab_link": true
    },
    "kernelspec": {
      "name": "python3",
      "display_name": "Python 3"
    },
    "language_info": {
      "name": "python"
    }
  },
  "cells": [
    {
      "cell_type": "markdown",
      "metadata": {
        "id": "view-in-github",
        "colab_type": "text"
      },
      "source": [
        "<a href=\"https://colab.research.google.com/github/Prax0028/Violence_Detection_Model_Codes/blob/main/ProjectV4_0.ipynb\" target=\"_parent\"><img src=\"https://colab.research.google.com/assets/colab-badge.svg\" alt=\"Open In Colab\"/></a>"
      ]
    },
    {
      "cell_type": "code",
      "source": [
        "# Step 1: Clone the dataset from GitHub\n",
        "!git clone https://github.com/Prax0028/violence_dataset.git"
      ],
      "metadata": {
        "colab": {
          "base_uri": "https://localhost:8080/"
        },
        "id": "hVjqcwQeDKvJ",
        "outputId": "20f93592-3ca6-4ed2-cacd-fad38c70e62b"
      },
      "execution_count": null,
      "outputs": [
        {
          "output_type": "stream",
          "name": "stdout",
          "text": [
            "Cloning into 'violence_dataset'...\n",
            "remote: Enumerating objects: 10971, done.\u001b[K\n",
            "remote: Counting objects: 100% (15/15), done.\u001b[K\n",
            "remote: Compressing objects: 100% (15/15), done.\u001b[K\n",
            "remote: Total 10971 (delta 7), reused 0 (delta 0), pack-reused 10956 (from 1)\u001b[K\n",
            "Receiving objects: 100% (10971/10971), 645.81 MiB | 19.75 MiB/s, done.\n",
            "Resolving deltas: 100% (8/8), done.\n",
            "Updating files: 100% (11065/11065), done.\n"
          ]
        }
      ]
    },
    {
      "cell_type": "code",
      "source": [
        "\n",
        "# Step 2: Import necessary libraries\n",
        "import torch\n",
        "import torch.nn as nn\n",
        "from torch.utils.data import Dataset, DataLoader\n",
        "import cv2\n",
        "import os\n",
        "from PIL import Image\n",
        "from torchvision import transforms\n",
        "import pandas as pd\n",
        "import numpy as np\n",
        "import matplotlib.pyplot as plt\n",
        "from tqdm import tqdm\n",
        "from sklearn.metrics import classification_report\n"
      ],
      "metadata": {
        "id": "hxfiNWkODXH5"
      },
      "execution_count": null,
      "outputs": []
    },
    {
      "cell_type": "code",
      "source": [
        "class CNNLSTMModel(nn.Module):\n",
        "    def __init__(self):\n",
        "        super(CNNLSTMModel, self).__init__()\n",
        "\n",
        "        self.feature_extractor = nn.Sequential(\n",
        "            nn.Conv2d(3, 32, kernel_size=3, stride=1, padding=1),\n",
        "            nn.ReLU(),\n",
        "            nn.MaxPool2d(kernel_size=2, stride=2),\n",
        "            nn.Conv2d(32, 64, kernel_size=3, stride=1, padding=1),\n",
        "            nn.ReLU(),\n",
        "            nn.MaxPool2d(kernel_size=2, stride=2),\n",
        "            nn.Conv2d(64, 128, kernel_size=3, stride=1, padding=1),\n",
        "            nn.ReLU()\n",
        "        )\n",
        "\n",
        "        # Calculate the flattened size based on a dummy input\n",
        "        dummy_input = torch.zeros(1, 3, 224, 224)\n",
        "        flattened_size = self._get_flattened_size(dummy_input)\n",
        "\n",
        "        # Update LSTM input size based on the calculated flattened size\n",
        "        self.lstm = nn.LSTM(input_size=flattened_size, hidden_size=128, num_layers=1, batch_first=True)\n",
        "        self.classifier = nn.Sequential(\n",
        "            nn.Linear(128, 512),\n",
        "            nn.ReLU(),\n",
        "            nn.Linear(512, 2)  # Output layer with 2 units (for binary classification)\n",
        "        )\n",
        "\n",
        "        self.gradient = None\n",
        "\n",
        "    def _get_flattened_size(self, x):\n",
        "        x = self.feature_extractor(x)\n",
        "        return x.view(x.size(0), -1).size(1)\n",
        "\n",
        "    def activations_hook(self, grad):\n",
        "        self.gradient = grad\n",
        "\n",
        "    def get_activation_gradients(self):\n",
        "        return self.gradient\n",
        "\n",
        "    def get_activation(self, x):\n",
        "        return self.feature_extractor(x)\n",
        "\n",
        "    def forward(self, images):\n",
        "        batch_size, seq_len, c, h, w = images.size()\n",
        "        x = images.view(batch_size * seq_len, c, h, w)  # Combine batch and sequence dimensions for CNN processing\n",
        "        x = self.feature_extractor(x)\n",
        "        x = x.view(batch_size, seq_len, -1)  # Flatten feature map for LSTM input (batch_size, sequence_length, input_size)\n",
        "        x, (hn, cn) = self.lstm(x)  # LSTM output\n",
        "        x = hn[-1]  # Use the last hidden state\n",
        "        x = self.classifier(x)\n",
        "        return x, x  # Return activations for Grad-CAM if needed\n"
      ],
      "metadata": {
        "id": "F4AHowuJDYW3"
      },
      "execution_count": null,
      "outputs": []
    },
    {
      "cell_type": "code",
      "source": [
        "CNNLSTMModel()"
      ],
      "metadata": {
        "colab": {
          "base_uri": "https://localhost:8080/"
        },
        "id": "HKI7NTShGZ37",
        "outputId": "c132e01d-f702-49a1-85cb-a0497dc938b8"
      },
      "execution_count": null,
      "outputs": [
        {
          "output_type": "execute_result",
          "data": {
            "text/plain": [
              "CNNLSTMModel(\n",
              "  (feature_extractor): Sequential(\n",
              "    (0): Conv2d(3, 32, kernel_size=(3, 3), stride=(1, 1), padding=(1, 1))\n",
              "    (1): ReLU()\n",
              "    (2): MaxPool2d(kernel_size=2, stride=2, padding=0, dilation=1, ceil_mode=False)\n",
              "    (3): Conv2d(32, 64, kernel_size=(3, 3), stride=(1, 1), padding=(1, 1))\n",
              "    (4): ReLU()\n",
              "    (5): MaxPool2d(kernel_size=2, stride=2, padding=0, dilation=1, ceil_mode=False)\n",
              "    (6): Conv2d(64, 128, kernel_size=(3, 3), stride=(1, 1), padding=(1, 1))\n",
              "    (7): ReLU()\n",
              "  )\n",
              "  (lstm): LSTM(401408, 128, batch_first=True)\n",
              "  (classifier): Sequential(\n",
              "    (0): Linear(in_features=128, out_features=512, bias=True)\n",
              "    (1): ReLU()\n",
              "    (2): Linear(in_features=512, out_features=2, bias=True)\n",
              "  )\n",
              ")"
            ]
          },
          "metadata": {},
          "execution_count": 5
        }
      ]
    },
    {
      "cell_type": "code",
      "source": [
        "class FrameSequenceDataset(Dataset):\n",
        "    def __init__(self, csv_file, data_dir, sequence_length=10, transform=None):\n",
        "        self.data = pd.read_csv(csv_file)\n",
        "        self.data_dir = data_dir\n",
        "        self.sequence_length = sequence_length\n",
        "        self.transform = transform or transforms.Compose([\n",
        "            transforms.Resize((224, 224)),  # Ensure all frames are resized to 224x224\n",
        "            transforms.ToTensor(),\n",
        "            transforms.Normalize(mean=[0.485, 0.456, 0.406], std=[0.229, 0.224, 0.225])\n",
        "        ])\n",
        "        self.grouped_data = self.data.groupby(self.data['img_path'].apply(lambda x: x.split('_')[1]))\n",
        "\n",
        "    def __len__(self):\n",
        "        return len(self.grouped_data)\n",
        "\n",
        "    def __getitem__(self, idx):\n",
        "        video_name = list(self.grouped_data.groups.keys())[idx]\n",
        "        frames_info = self.grouped_data.get_group(video_name)\n",
        "        frames = []\n",
        "\n",
        "        for _, row in frames_info.iterrows():\n",
        "            img_path = os.path.join(self.data_dir, row['img_path'])\n",
        "            image = Image.open(img_path).convert('RGB')\n",
        "            if self.transform:\n",
        "                image = self.transform(image)\n",
        "            frames.append(image)\n",
        "            if len(frames) >= self.sequence_length:\n",
        "                break\n",
        "\n",
        "        if len(frames) < self.sequence_length:\n",
        "            padding = [torch.zeros_like(frames[0])] * (self.sequence_length - len(frames))\n",
        "            frames.extend(padding)\n",
        "        frames_tensor = torch.stack(frames)\n",
        "        label = frames_info['label'].iloc[0]\n",
        "        return frames_tensor, torch.tensor(label, dtype=torch.long)\n"
      ],
      "metadata": {
        "id": "kR7kb9-_DaXp"
      },
      "execution_count": null,
      "outputs": []
    },
    {
      "cell_type": "code",
      "source": [
        "\n",
        "# Step 5: Grad-CAM function\n",
        "def get_gradcam(model, image, size):\n",
        "    model.eval()\n",
        "    pred, activations = model(image)\n",
        "    predicted_class = pred.argmax(dim=1)\n",
        "    model.zero_grad()\n",
        "    pred[0][predicted_class].backward()\n",
        "    gradients = model.get_activation_gradients()\n",
        "    pooled_gradients = torch.mean(gradients, dim=[0, 2, 3])\n",
        "    activations = activations.detach()\n",
        "\n",
        "    for i in range(activations.shape[1]):\n",
        "        activations[:, i, :, :] *= pooled_gradients[i]\n",
        "\n",
        "    heatmap = torch.mean(activations, dim=1).squeeze().cpu()\n",
        "    heatmap = nn.ReLU()(heatmap)\n",
        "    heatmap /= torch.max(heatmap)\n",
        "    heatmap = heatmap.numpy()\n",
        "    heatmap = cv2.resize(heatmap, (size, size))\n",
        "\n",
        "    return heatmap\n"
      ],
      "metadata": {
        "id": "kipqCCadDc5Y"
      },
      "execution_count": null,
      "outputs": []
    },
    {
      "cell_type": "code",
      "source": [
        "\n",
        "# Step 6: Function to plot Grad-CAM\n",
        "def plot_heatmap(denorm_image, pred, heatmap, actual_label):\n",
        "    fig, (ax1, ax2, ax3) = plt.subplots(figsize=(20, 20), ncols=3)\n",
        "    classes = ['non-violence', 'violence']\n",
        "    ps = torch.nn.Softmax(dim=1)(pred).cpu().detach().numpy()\n",
        "    ax1.imshow(denorm_image)\n",
        "\n",
        "    ax2.barh(classes, ps[0])\n",
        "    predicted_class_index = np.argmax(ps[0])\n",
        "    predicted_class_label = classes[predicted_class_index]\n",
        "    actual_class_label = classes[actual_label]\n",
        "\n",
        "    caption = (f\"Predicted Class: {predicted_class_label} ({ps[0][predicted_class_index]:.2f} probability)\\n\"\n",
        "               f\"Actual Class: {actual_class_label}\")\n",
        "    ax2.text(0.5, -0.2, caption, ha='center', va='top', transform=ax2.transAxes, fontsize=12)\n",
        "    ax2.set_aspect(0.1)\n",
        "    ax2.set_yticks(np.arange(len(classes)))\n",
        "    ax2.set_yticklabels(classes)\n",
        "    ax2.set_title('Predicted Class')\n",
        "    ax2.set_xlim(0, 1.1)\n",
        "\n",
        "    ax3.imshow(denorm_image)\n",
        "    ax3.imshow(heatmap, cmap='jet', alpha=0.7)\n",
        "    plt.show()\n"
      ],
      "metadata": {
        "id": "R8OmAtUgDgb1"
      },
      "execution_count": null,
      "outputs": []
    },
    {
      "cell_type": "code",
      "source": [
        "def visualize_gradcam(model, dataloader, device='cuda' if torch.cuda.is_available() else 'cpu'):\n",
        "    model.to(device)\n",
        "    model.eval()\n",
        "    for images, labels in dataloader:\n",
        "        images = images.to(device)\n",
        "        labels = labels.to(device)\n",
        "\n",
        "        # Take a single sequence for visualization (e.g., the first sequence in the batch)\n",
        "        image_sequence = images[0]  # Shape: (seq_len, channels, height, width)\n",
        "        label = labels[0].item()\n",
        "\n",
        "        # Choose a specific frame to visualize (e.g., the first frame in the sequence)\n",
        "        image = image_sequence[0].unsqueeze(0)  # Shape: (1, channels, height, width)\n",
        "\n",
        "        # Denormalize the image for display\n",
        "        denorm_image = image[0].permute(1, 2, 0).cpu().numpy()\n",
        "        denorm_image = denorm_image * np.array([0.229, 0.224, 0.225]) + np.array([0.485, 0.456, 0.406])\n",
        "        denorm_image = np.clip(denorm_image, 0, 1)\n",
        "\n",
        "        # Get prediction and heatmap\n",
        "        pred, _ = model(image.unsqueeze(0))  # Add a batch dimension for the model\n",
        "        heatmap = get_gradcam(model, image.unsqueeze(0), size=denorm_image.shape[0])\n",
        "\n",
        "        # Plot the heatmap\n",
        "        plot_heatmap(denorm_image, pred, heatmap, label)\n",
        "        break  # Only visualize one sequence\n"
      ],
      "metadata": {
        "id": "h3ww4bqJDfif"
      },
      "execution_count": null,
      "outputs": []
    },
    {
      "cell_type": "code",
      "source": [
        "\n",
        "# Step 8: Load the dataset and create DataLoaders\n",
        "csv_file = '/content/violence_dataset/image_labels.csv'  # Path to your CSV file\n",
        "data_dir = '/content/violence_dataset/'  # Base directory containing 'violent' and 'non_violent' subdirectories\n"
      ],
      "metadata": {
        "id": "jhi_K5GIDeol"
      },
      "execution_count": null,
      "outputs": []
    },
    {
      "cell_type": "code",
      "source": [
        "\n",
        "dataset = FrameSequenceDataset(csv_file=csv_file, data_dir=data_dir, sequence_length=10)\n",
        "train_size = int(0.7 * len(dataset))\n",
        "valid_size = len(dataset) - train_size\n",
        "train_dataset, valid_dataset = torch.utils.data.random_split(dataset, [train_size, valid_size])\n"
      ],
      "metadata": {
        "id": "UWSqv8e1Dhy1"
      },
      "execution_count": null,
      "outputs": []
    },
    {
      "cell_type": "code",
      "source": [
        "\n",
        "train_loader = DataLoader(train_dataset, batch_size=4, shuffle=True)\n",
        "valid_loader = DataLoader(valid_dataset, batch_size=4, shuffle=False)\n"
      ],
      "metadata": {
        "id": "N6grYi7sDik7"
      },
      "execution_count": null,
      "outputs": []
    },
    {
      "cell_type": "code",
      "source": [
        "\n",
        "# Step 9: Initialize the model, optimizer, and loss function\n",
        "DEVICE = 'cuda' if torch.cuda.is_available() else 'cpu'\n",
        "model = CNNLSTMModel().to(DEVICE)\n",
        "optimizer = torch.optim.Adam(model.parameters(), lr=0.1)\n",
        "criterion = nn.CrossEntropyLoss()\n"
      ],
      "metadata": {
        "id": "72WLIb0iDkNH"
      },
      "execution_count": null,
      "outputs": []
    },
    {
      "cell_type": "code",
      "source": [
        "# Function to train the model\n",
        "def train_fun(dataloader, model, optimizer, criterion):\n",
        "    model.train()\n",
        "    total_loss = 0.0\n",
        "    correct_predictions = 0\n",
        "    total_samples = 0\n",
        "\n",
        "    for images, labels in tqdm(dataloader):\n",
        "        images = images.to(DEVICE)\n",
        "        labels = labels.to(DEVICE)\n",
        "\n",
        "        optimizer.zero_grad()\n",
        "\n",
        "        # Forward pass\n",
        "        logits, _ = model(images)  # Unpack the tuple to get only the logits\n",
        "\n",
        "        # Calculate loss\n",
        "        loss = criterion(logits, labels)\n",
        "\n",
        "        # Backpropagation\n",
        "        loss.backward()\n",
        "        optimizer.step()\n",
        "\n",
        "        total_loss += loss.item()\n",
        "        predictions = torch.argmax(logits, dim=1)\n",
        "        correct_predictions += (predictions == labels).sum().item()\n",
        "        total_samples += labels.size(0)\n",
        "\n",
        "    avg_loss = total_loss / len(dataloader)\n",
        "    accuracy = correct_predictions / total_samples\n",
        "    return avg_loss, accuracy\n",
        "\n",
        "# Function to evaluate the model\n",
        "def eval_fun(dataloader, model, criterion):\n",
        "    model.eval()\n",
        "    total_loss = 0.0\n",
        "    correct_predictions = 0\n",
        "    total_samples = 0\n",
        "    all_actual_labels = []\n",
        "    all_predicted_labels = []\n",
        "\n",
        "    with torch.no_grad():\n",
        "        for images, labels in tqdm(dataloader):\n",
        "            images = images.to(DEVICE)\n",
        "            labels = labels.to(DEVICE)\n",
        "\n",
        "            # Forward pass\n",
        "            logits, _ = model(images)  # Unpack the tuple to get only the logits\n",
        "\n",
        "            loss = criterion(logits, labels)\n",
        "            total_loss += loss.item()\n",
        "\n",
        "            predictions = torch.argmax(logits, dim=1)\n",
        "            correct_predictions += (predictions == labels).sum().item()\n",
        "            total_samples += labels.size(0)\n",
        "\n",
        "            all_actual_labels.extend(labels.cpu().numpy())\n",
        "            all_predicted_labels.extend(predictions.cpu().numpy())\n",
        "\n",
        "    avg_loss = total_loss / len(dataloader)\n",
        "    accuracy = correct_predictions / total_samples\n",
        "    return avg_loss, accuracy, all_actual_labels, all_predicted_labels\n"
      ],
      "metadata": {
        "id": "kyp5zZIfFewy"
      },
      "execution_count": null,
      "outputs": []
    },
    {
      "cell_type": "code",
      "source": [
        "# Step 10: Training loop with history tracking\n",
        "EPOCHS = 5\n",
        "best_valid_loss = np.Inf\n",
        "\n",
        "# Initialize lists to track accuracy and loss\n",
        "train_losses, train_accuracies = [], []\n",
        "valid_losses, valid_accuracies = [], []\n",
        "\n",
        "for epoch in range(EPOCHS):\n",
        "    # Training step\n",
        "    train_loss, train_accuracy = train_fun(train_loader, model, optimizer, criterion)\n",
        "    valid_loss, valid_accuracy, _, _ = eval_fun(valid_loader, model, criterion)\n",
        "\n",
        "    # Append to history lists\n",
        "    train_losses.append(train_loss)\n",
        "    train_accuracies.append(train_accuracy)\n",
        "    valid_losses.append(valid_loss)\n",
        "    valid_accuracies.append(valid_accuracy)\n",
        "\n",
        "    # Save the best model based on validation loss\n",
        "    if valid_loss < best_valid_loss:\n",
        "        best_valid_loss = valid_loss\n",
        "        torch.save({\n",
        "            'model_state_dict': model.state_dict(),\n",
        "            'optimizer_state_dict': optimizer.state_dict(),\n",
        "            'epoch': epoch,\n",
        "            'best_valid_loss': best_valid_loss\n",
        "        }, 'best_model_lstm.pth')\n",
        "        print(\"Model saved successfully!\")\n",
        "\n",
        "    # Print epoch results\n",
        "    print(f\"EPOCH: {epoch+1}, TRAIN_LOSS: {train_loss:.4f}, TRAIN_ACCURACY: {train_accuracy:.4f}, \"\n",
        "          f\"VALID_LOSS: {valid_loss:.4f}, VALID_ACCURACY: {valid_accuracy:.4f}\")\n",
        "\n",
        "# Step 12: Plot training and validation accuracy/loss\n",
        "plt.figure(figsize=(12, 4))\n",
        "\n",
        "# Plot accuracy\n",
        "plt.subplot(1, 2, 1)\n",
        "plt.plot(train_accuracies, label='Training Accuracy')\n",
        "plt.plot(valid_accuracies, label='Validation Accuracy')\n",
        "plt.legend()\n",
        "plt.title('Accuracy')\n",
        "\n",
        "# Plot loss\n",
        "plt.subplot(1, 2, 2)\n",
        "plt.plot(train_losses, label='Training Loss')\n",
        "plt.plot(valid_losses, label='Validation Loss')\n",
        "plt.legend()\n",
        "plt.title('Loss')\n",
        "\n",
        "plt.show()\n"
      ],
      "metadata": {
        "colab": {
          "base_uri": "https://localhost:8080/"
        },
        "id": "otr8rlGkDk4P",
        "outputId": "9bd99736-5b3e-46b2-d40e-b277b9ce4130"
      },
      "execution_count": null,
      "outputs": [
        {
          "output_type": "stream",
          "name": "stderr",
          "text": [
            "100%|██████████| 175/175 [00:52<00:00,  3.31it/s]\n",
            "100%|██████████| 76/76 [00:13<00:00,  5.78it/s]\n"
          ]
        },
        {
          "output_type": "stream",
          "name": "stdout",
          "text": [
            "Model saved successfully!\n",
            "EPOCH: 1, TRAIN_LOSS: 0.0041, TRAIN_ACCURACY: 0.9943, VALID_LOSS: 14.3399, VALID_ACCURACY: 0.9967\n"
          ]
        },
        {
          "output_type": "stream",
          "name": "stderr",
          "text": [
            "100%|██████████| 175/175 [00:52<00:00,  3.35it/s]\n",
            "100%|██████████| 76/76 [00:13<00:00,  5.70it/s]\n"
          ]
        },
        {
          "output_type": "stream",
          "name": "stdout",
          "text": [
            "EPOCH: 2, TRAIN_LOSS: 0.0000, TRAIN_ACCURACY: 1.0000, VALID_LOSS: 14.3399, VALID_ACCURACY: 0.9967\n"
          ]
        },
        {
          "output_type": "stream",
          "name": "stderr",
          "text": [
            "100%|██████████| 175/175 [00:51<00:00,  3.38it/s]\n",
            "100%|██████████| 76/76 [00:13<00:00,  5.67it/s]\n"
          ]
        },
        {
          "output_type": "stream",
          "name": "stdout",
          "text": [
            "EPOCH: 3, TRAIN_LOSS: 0.0000, TRAIN_ACCURACY: 1.0000, VALID_LOSS: 14.3399, VALID_ACCURACY: 0.9967\n"
          ]
        },
        {
          "output_type": "stream",
          "name": "stderr",
          "text": [
            "100%|██████████| 175/175 [00:51<00:00,  3.38it/s]\n",
            "100%|██████████| 76/76 [00:13<00:00,  5.62it/s]\n"
          ]
        },
        {
          "output_type": "stream",
          "name": "stdout",
          "text": [
            "EPOCH: 4, TRAIN_LOSS: 0.0000, TRAIN_ACCURACY: 1.0000, VALID_LOSS: 14.3399, VALID_ACCURACY: 0.9967\n"
          ]
        },
        {
          "output_type": "stream",
          "name": "stderr",
          "text": [
            "100%|██████████| 175/175 [00:50<00:00,  3.44it/s]\n",
            "100%|██████████| 76/76 [00:12<00:00,  6.01it/s]\n"
          ]
        },
        {
          "output_type": "stream",
          "name": "stdout",
          "text": [
            "EPOCH: 5, TRAIN_LOSS: 0.0000, TRAIN_ACCURACY: 1.0000, VALID_LOSS: 14.3399, VALID_ACCURACY: 0.9967\n"
          ]
        },
        {
          "output_type": "display_data",
          "data": {
            "text/plain": [
              "<Figure size 1200x400 with 2 Axes>"
            ],
            "image/png": "[encoded data removed]"
          },
          "metadata": {}
        }
      ]
    }
  ]
}